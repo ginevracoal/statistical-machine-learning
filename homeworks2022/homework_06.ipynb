{
 "cells": [
  {
   "cell_type": "markdown",
   "metadata": {},
   "source": [
    "## Homework 06"
   ]
  },
  {
   "cell_type": "markdown",
   "metadata": {},
   "source": [
    "The UCI ML hand-written digits datasets contains 8x8 images of digits belonging to 10 different classes:"
   ]
  },
  {
   "cell_type": "code",
   "execution_count": 1,
   "metadata": {},
   "outputs": [
    {
     "name": "stdout",
     "output_type": "stream",
     "text": [
      "predictors shape = (1797, 64)\n",
      "labels shape = (1797,)\n",
      "n. unique labels = 10\n"
     ]
    }
   ],
   "source": [
    "import sklearn\n",
    "import numpy as np\n",
    "from sklearn.datasets import load_digits\n",
    "dataset = load_digits()\n",
    "\n",
    "x, y = dataset.data, dataset.target\n",
    "print(\"predictors shape =\", x.shape)\n",
    "print(\"labels shape =\", y.shape)\n",
    "print(\"n. unique labels =\", len(np.unique(y)))"
   ]
  },
  {
   "cell_type": "code",
   "execution_count": 2,
   "metadata": {},
   "outputs": [
    {
     "data": {
      "image/png": "[encoded data removed]",
      "text/plain": [
       "<Figure size 576x216 with 5 Axes>"
      ]
     },
     "metadata": {
      "needs_background": "light"
     },
     "output_type": "display_data"
    }
   ],
   "source": [
    "import numpy as np \n",
    "import matplotlib.pyplot as plt\n",
    "plt.figure(figsize=(8,3))\n",
    "for index, (image, label) in enumerate(zip(x[0:5], y[0:5])):\n",
    "    plt.subplot(1, 5, index + 1)\n",
    "    plt.imshow(np.reshape(image, (8,8)), cmap=plt.cm.gray)\n",
    "    plt.title('Label: %i\\n' % label, fontsize = 10)"
   ]
  },
  {
   "cell_type": "markdown",
   "metadata": {},
   "source": [
    "1. Normalize the matrix of predictors and perform a train/test split using `train_test_split` from `sklearn` library.\n",
    "\n",
    "2. Use pyro to write a multinomial bayesian logistic regression model$^1$. You should define both a `guide()` function and a `model()` function. Use a Categorical distributions on the outcomes to solve this multiclass classification problem.\n",
    "\n",
    "3. Run SVI inference using pyro `Adam` optimizer and plot the ELBO loss using `matplotlib.plot` function.\n",
    "\n",
    "4. Evaluate your model on the test data: compute the overall test accuracy and the class-wise accuracy for the 10 categories.\n",
    "\n",
    "$^1$Section \"Bayesian logistic regression\" in notebook 07."
   ]
  }
 ],
 "metadata": {
  "kernelspec": {
   "display_name": "Python 3",
   "language": "python",
   "name": "python3"
  },
  "language_info": {
   "codemirror_mode": {
    "name": "ipython",
    "version": 3
   },
   "file_extension": ".py",
   "mimetype": "text/x-python",
   "name": "python",
   "nbconvert_exporter": "python",
   "pygments_lexer": "ipython3",
   "version": "3.6.9"
  }
 },
 "nbformat": 4,
 "nbformat_minor": 4
}
